{
  "nbformat": 4,
  "nbformat_minor": 0,
  "metadata": {
    "colab": {
      "name": "mushroom_classifier_rf.ipynb",
      "provenance": [],
      "collapsed_sections": [],
      "authorship_tag": "ABX9TyNMGkfkAyRphaQuxybA/JxR",
      "include_colab_link": true
    },
    "kernelspec": {
      "name": "python3",
      "display_name": "Python 3"
    },
    "language_info": {
      "name": "python"
    }
  },
  "cells": [
    {
      "cell_type": "markdown",
      "metadata": {
        "id": "view-in-github",
        "colab_type": "text"
      },
      "source": [
        "<a href=\"https://colab.research.google.com/github/yashk1900/MLpractice/blob/main/mushroom_classifier_rf.ipynb\" target=\"_parent\"><img src=\"https://colab.research.google.com/assets/colab-badge.svg\" alt=\"Open In Colab\"/></a>"
      ]
    },
    {
      "cell_type": "code",
      "metadata": {
        "id": "x0VSrRcwS9-j"
      },
      "source": [
        "import pandas as pd\n",
        "import sklearn"
      ],
      "execution_count": 123,
      "outputs": []
    },
    {
      "cell_type": "code",
      "metadata": {
        "id": "bjowfcIzTMTt"
      },
      "source": [
        "data  = pd.read_csv('/mushrooms.csv')"
      ],
      "execution_count": 124,
      "outputs": []
    },
    {
      "cell_type": "code",
      "metadata": {
        "colab": {
          "base_uri": "https://localhost:8080/"
        },
        "id": "ihBI8oxtTWzq",
        "outputId": "80aefc70-9e50-4f4e-9c19-57bdcfa4f460"
      },
      "source": [
        "print(data[0:5])"
      ],
      "execution_count": 125,
      "outputs": [
        {
          "output_type": "stream",
          "text": [
            "  class cap-shape cap-surface  ... spore-print-color population habitat\n",
            "0     p         x           s  ...                 k          s       u\n",
            "1     e         x           s  ...                 n          n       g\n",
            "2     e         b           s  ...                 n          n       m\n",
            "3     p         x           y  ...                 k          s       u\n",
            "4     e         x           s  ...                 n          a       g\n",
            "\n",
            "[5 rows x 23 columns]\n"
          ],
          "name": "stdout"
        }
      ]
    },
    {
      "cell_type": "code",
      "metadata": {
        "colab": {
          "base_uri": "https://localhost:8080/"
        },
        "id": "H9VlZ1qyTp8y",
        "outputId": "565c2a6f-c1de-4f33-9d3a-49a8734d8186"
      },
      "source": [
        "data.info()"
      ],
      "execution_count": 126,
      "outputs": [
        {
          "output_type": "stream",
          "text": [
            "<class 'pandas.core.frame.DataFrame'>\n",
            "RangeIndex: 8124 entries, 0 to 8123\n",
            "Data columns (total 23 columns):\n",
            " #   Column                    Non-Null Count  Dtype \n",
            "---  ------                    --------------  ----- \n",
            " 0   class                     8124 non-null   object\n",
            " 1   cap-shape                 8124 non-null   object\n",
            " 2   cap-surface               8124 non-null   object\n",
            " 3   cap-color                 8124 non-null   object\n",
            " 4   bruises                   8124 non-null   object\n",
            " 5   odor                      8124 non-null   object\n",
            " 6   gill-attachment           8124 non-null   object\n",
            " 7   gill-spacing              8124 non-null   object\n",
            " 8   gill-size                 8124 non-null   object\n",
            " 9   gill-color                8124 non-null   object\n",
            " 10  stalk-shape               8124 non-null   object\n",
            " 11  stalk-root                8124 non-null   object\n",
            " 12  stalk-surface-above-ring  8124 non-null   object\n",
            " 13  stalk-surface-below-ring  8124 non-null   object\n",
            " 14  stalk-color-above-ring    8124 non-null   object\n",
            " 15  stalk-color-below-ring    8124 non-null   object\n",
            " 16  veil-type                 8124 non-null   object\n",
            " 17  veil-color                8124 non-null   object\n",
            " 18  ring-number               8124 non-null   object\n",
            " 19  ring-type                 8124 non-null   object\n",
            " 20  spore-print-color         8124 non-null   object\n",
            " 21  population                8124 non-null   object\n",
            " 22  habitat                   8124 non-null   object\n",
            "dtypes: object(23)\n",
            "memory usage: 1.4+ MB\n"
          ],
          "name": "stdout"
        }
      ]
    },
    {
      "cell_type": "code",
      "metadata": {
        "id": "3sEWZuNHTzyk"
      },
      "source": [
        "Y=data[['class']]\n",
        "X=data[['cap-shape',               \n",
        " 'bruises',                 \n",
        "#  'cap-surface',             \n",
        "#  'odor',                    \n",
        "# 'gill-attachment',         \n",
        "#  'cap-color',               \n",
        "#  'gill-spacing',            \n",
        "#  'gill-size',               \n",
        "#  'gill-color',              \n",
        "#  'stalk-shape',             \n",
        "#  'stalk-root',              \n",
        "#  'stalk-surface-above-ring',\n",
        "#  'stalk-surface-below-ring',\n",
        "#  'stalk-color-above-ring',  \n",
        "#  'stalk-color-below-ring',  \n",
        "#  'veil-type',               \n",
        "#  'veil-color',              \n",
        "#  'ring-number',             \n",
        "#  'ring-type',               \n",
        "#  'spore-print-color',\n",
        "#  'population',              \n",
        "#  'habitat',\n",
        " ]]"
      ],
      "execution_count": 127,
      "outputs": []
    },
    {
      "cell_type": "code",
      "metadata": {
        "colab": {
          "base_uri": "https://localhost:8080/"
        },
        "id": "If2BpeG3V6io",
        "outputId": "db4e6056-f601-4b9f-c3c9-0785b5b5cd56"
      },
      "source": [
        "X=pd.get_dummies(X)\n",
        "X.info()"
      ],
      "execution_count": 128,
      "outputs": [
        {
          "output_type": "stream",
          "text": [
            "<class 'pandas.core.frame.DataFrame'>\n",
            "RangeIndex: 8124 entries, 0 to 8123\n",
            "Data columns (total 8 columns):\n",
            " #   Column       Non-Null Count  Dtype\n",
            "---  ------       --------------  -----\n",
            " 0   cap-shape_b  8124 non-null   uint8\n",
            " 1   cap-shape_c  8124 non-null   uint8\n",
            " 2   cap-shape_f  8124 non-null   uint8\n",
            " 3   cap-shape_k  8124 non-null   uint8\n",
            " 4   cap-shape_s  8124 non-null   uint8\n",
            " 5   cap-shape_x  8124 non-null   uint8\n",
            " 6   bruises_f    8124 non-null   uint8\n",
            " 7   bruises_t    8124 non-null   uint8\n",
            "dtypes: uint8(8)\n",
            "memory usage: 63.6 KB\n"
          ],
          "name": "stdout"
        }
      ]
    },
    {
      "cell_type": "code",
      "metadata": {
        "id": "AQRPsvt5dMCb"
      },
      "source": [
        "from sklearn.preprocessing import LabelEncoder"
      ],
      "execution_count": 129,
      "outputs": []
    },
    {
      "cell_type": "code",
      "metadata": {
        "id": "Fj8gOOptfZm6"
      },
      "source": [
        "Y = LabelEncoder().fit_transform(Y['class'])"
      ],
      "execution_count": 130,
      "outputs": []
    },
    {
      "cell_type": "code",
      "metadata": {
        "colab": {
          "base_uri": "https://localhost:8080/"
        },
        "id": "dNWLlkx1gvB6",
        "outputId": "1d099966-065f-4f95-f187-d250db7401ab"
      },
      "source": [
        "Y"
      ],
      "execution_count": 131,
      "outputs": [
        {
          "output_type": "execute_result",
          "data": {
            "text/plain": [
              "array([1, 0, 0, ..., 0, 1, 0])"
            ]
          },
          "metadata": {
            "tags": []
          },
          "execution_count": 131
        }
      ]
    },
    {
      "cell_type": "code",
      "metadata": {
        "id": "b4aZ5LWUV7pt"
      },
      "source": [
        "from sklearn.ensemble import RandomForestClassifier\n",
        "from sklearn.metrics import ConfusionMatrixDisplay\n",
        "from sklearn.model_selection import train_test_split"
      ],
      "execution_count": 132,
      "outputs": []
    },
    {
      "cell_type": "code",
      "metadata": {
        "id": "3vA1VUztV3Kp"
      },
      "source": [
        "X_train, X_test, y_train, y_test=train_test_split(X,Y,test_size=0.3)"
      ],
      "execution_count": 133,
      "outputs": []
    },
    {
      "cell_type": "code",
      "metadata": {
        "id": "dYa7JtiWXC8j"
      },
      "source": [
        "clf = RandomForestClassifier(n_estimators=100)"
      ],
      "execution_count": 134,
      "outputs": []
    },
    {
      "cell_type": "code",
      "metadata": {
        "colab": {
          "base_uri": "https://localhost:8080/"
        },
        "id": "e8KYYmCcddy-",
        "outputId": "790d7ed8-de0e-4c2f-9699-e67a125dd464"
      },
      "source": [
        "clf.fit(X_train,y_train)"
      ],
      "execution_count": 135,
      "outputs": [
        {
          "output_type": "execute_result",
          "data": {
            "text/plain": [
              "RandomForestClassifier(bootstrap=True, ccp_alpha=0.0, class_weight=None,\n",
              "                       criterion='gini', max_depth=None, max_features='auto',\n",
              "                       max_leaf_nodes=None, max_samples=None,\n",
              "                       min_impurity_decrease=0.0, min_impurity_split=None,\n",
              "                       min_samples_leaf=1, min_samples_split=2,\n",
              "                       min_weight_fraction_leaf=0.0, n_estimators=100,\n",
              "                       n_jobs=None, oob_score=False, random_state=None,\n",
              "                       verbose=0, warm_start=False)"
            ]
          },
          "metadata": {
            "tags": []
          },
          "execution_count": 135
        }
      ]
    },
    {
      "cell_type": "code",
      "metadata": {
        "id": "kJkk9NeadjVX"
      },
      "source": [
        "y_pred = clf.predict(X_test)"
      ],
      "execution_count": 136,
      "outputs": []
    },
    {
      "cell_type": "code",
      "metadata": {
        "colab": {
          "base_uri": "https://localhost:8080/"
        },
        "id": "OyitiiLde5wT",
        "outputId": "f2cc5cb1-8b95-4316-a2b1-903de61ca937"
      },
      "source": [
        "y_pred"
      ],
      "execution_count": 137,
      "outputs": [
        {
          "output_type": "execute_result",
          "data": {
            "text/plain": [
              "array([1, 0, 0, ..., 1, 1, 0])"
            ]
          },
          "metadata": {
            "tags": []
          },
          "execution_count": 137
        }
      ]
    },
    {
      "cell_type": "code",
      "metadata": {
        "id": "Iw8rE4KXed18"
      },
      "source": [
        "from sklearn.metrics import confusion_matrix"
      ],
      "execution_count": 138,
      "outputs": []
    },
    {
      "cell_type": "code",
      "metadata": {
        "colab": {
          "base_uri": "https://localhost:8080/"
        },
        "id": "-ZRWdEOZeqBV",
        "outputId": "f0f18f22-afea-4537-80b0-145ac9e70605"
      },
      "source": [
        "confusion_matrix(y_test,y_pred)"
      ],
      "execution_count": 139,
      "outputs": [
        {
          "output_type": "execute_result",
          "data": {
            "text/plain": [
              "array([[877, 390],\n",
              "       [204, 967]])"
            ]
          },
          "metadata": {
            "tags": []
          },
          "execution_count": 139
        }
      ]
    },
    {
      "cell_type": "code",
      "metadata": {
        "id": "ylYDQ9bSeyTu"
      },
      "source": [
        "from sklearn import datasets, metrics, model_selection, svm\n",
        "import matplotlib.pyplot as plt  "
      ],
      "execution_count": 140,
      "outputs": []
    },
    {
      "cell_type": "code",
      "metadata": {
        "colab": {
          "base_uri": "https://localhost:8080/",
          "height": 279
        },
        "id": "K-iO5w1Fig9s",
        "outputId": "27fd389f-c643-48dc-9c0d-571b7b395a43"
      },
      "source": [
        "metrics.plot_roc_curve(clf, X_test, y_test)  \n",
        "plt.show()"
      ],
      "execution_count": 141,
      "outputs": [
        {
          "output_type": "display_data",
          "data": {
            "image/png": "[encoded data removed]",
            "text/plain": [
              "<Figure size 432x288 with 1 Axes>"
            ]
          },
          "metadata": {
            "tags": [],
            "needs_background": "light"
          }
        }
      ]
    },
    {
      "cell_type": "code",
      "metadata": {
        "id": "756X_AsJintp"
      },
      "source": [
        ""
      ],
      "execution_count": 141,
      "outputs": []
    },
    {
      "cell_type": "code",
      "metadata": {
        "id": "wUR6KeUWdhPq"
      },
      "source": [
        ""
      ],
      "execution_count": 141,
      "outputs": []
    }
  ]
}